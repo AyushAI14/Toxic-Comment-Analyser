{
 "cells": [
  {
   "cell_type": "code",
   "execution_count": 1,
   "id": "5d9640e1",
   "metadata": {},
   "outputs": [
    {
     "name": "stdout",
     "output_type": "stream",
     "text": [
      "/home/ayush/Documents/AI/Projects/Toxic-Comment-Analyser\n"
     ]
    },
    {
     "name": "stderr",
     "output_type": "stream",
     "text": [
      "/home/ayush/Documents/AI/Projects/Toxic-Comment-Analyser/.venv/lib/python3.10/site-packages/IPython/core/magics/osm.py:417: UserWarning: This is now an optional IPython functionality, setting dhist requires you to install the `pickleshare` library.\n",
      "  self.shell.db['dhist'] = compress_dhist(dhist)[-100:]\n"
     ]
    }
   ],
   "source": [
    "cd .."
   ]
  },
  {
   "cell_type": "code",
   "execution_count": 2,
   "id": "08d93f69",
   "metadata": {},
   "outputs": [],
   "source": [
    "from dataclasses import dataclass\n",
    "\n",
    "@dataclass\n",
    "class ModelEvalutionConfig:\n",
    "    root_dir: str\n",
    "    clean_data_yt_path: str\n",
    "    tokenizer_path:str\n",
    "    model_path:str\n"
   ]
  },
  {
   "cell_type": "code",
   "execution_count": 3,
   "id": "0b34c699",
   "metadata": {},
   "outputs": [],
   "source": [
    "from src.constants import *\n",
    "from src.utils.common import read_yaml_file,create_dir"
   ]
  },
  {
   "cell_type": "code",
   "execution_count": 4,
   "id": "6c1d6f7f",
   "metadata": {},
   "outputs": [],
   "source": [
    "class ConfigurationManager:\n",
    "    def __init__(self,config=CONFIG_FILE_PATH,\n",
    "                 param=PARAM_FILE_PATH):\n",
    "        self.config=read_yaml_file(config)\n",
    "        self.param=read_yaml_file(param)\n",
    "        create_dir([self.config.artifact_root])\n",
    "\n",
    "    def get_model_eval(self)->ModelEvalutionConfig:\n",
    "        config = self.config.model_evalution\n",
    "        create_dir([config.root_dir])\n",
    "        get_modelEval=ModelEvalutionConfig(\n",
    "            root_dir=config.root_dir,\n",
    "            clean_data_yt_path=config.clean_data_yt_path,\n",
    "            model_path=config.model_path,\n",
    "            tokenizer_path=config.tokenizer_path\n",
    "\n",
    "        )\n",
    "        return get_modelEval"
   ]
  },
  {
   "cell_type": "code",
   "execution_count": 5,
   "id": "70542109",
   "metadata": {},
   "outputs": [
    {
     "name": "stderr",
     "output_type": "stream",
     "text": [
      "/home/ayush/Documents/AI/Projects/Toxic-Comment-Analyser/.venv/lib/python3.10/site-packages/tqdm/auto.py:21: TqdmWarning: IProgress not found. Please update jupyter and ipywidgets. See https://ipywidgets.readthedocs.io/en/stable/user_install.html\n",
      "  from .autonotebook import tqdm as notebook_tqdm\n",
      "2025-06-15 16:01:31.602208: I tensorflow/core/util/port.cc:153] oneDNN custom operations are on. You may see slightly different numerical results due to floating-point round-off errors from different computation orders. To turn them off, set the environment variable `TF_ENABLE_ONEDNN_OPTS=0`.\n",
      "2025-06-15 16:01:31.603858: I external/local_xla/xla/tsl/cuda/cudart_stub.cc:32] Could not find cuda drivers on your machine, GPU will not be used.\n",
      "2025-06-15 16:01:31.611218: I external/local_xla/xla/tsl/cuda/cudart_stub.cc:32] Could not find cuda drivers on your machine, GPU will not be used.\n",
      "2025-06-15 16:01:31.628317: E external/local_xla/xla/stream_executor/cuda/cuda_fft.cc:467] Unable to register cuFFT factory: Attempting to register factory for plugin cuFFT when one has already been registered\n",
      "WARNING: All log messages before absl::InitializeLog() is called are written to STDERR\n",
      "E0000 00:00:1749983491.656341   79701 cuda_dnn.cc:8579] Unable to register cuDNN factory: Attempting to register factory for plugin cuDNN when one has already been registered\n",
      "E0000 00:00:1749983491.661636   79701 cuda_blas.cc:1407] Unable to register cuBLAS factory: Attempting to register factory for plugin cuBLAS when one has already been registered\n",
      "W0000 00:00:1749983491.682110   79701 computation_placer.cc:177] computation placer already registered. Please check linkage and avoid linking the same target more than once.\n",
      "W0000 00:00:1749983491.682179   79701 computation_placer.cc:177] computation placer already registered. Please check linkage and avoid linking the same target more than once.\n",
      "W0000 00:00:1749983491.682182   79701 computation_placer.cc:177] computation placer already registered. Please check linkage and avoid linking the same target more than once.\n",
      "W0000 00:00:1749983491.682185   79701 computation_placer.cc:177] computation placer already registered. Please check linkage and avoid linking the same target more than once.\n",
      "2025-06-15 16:01:31.692233: I tensorflow/core/platform/cpu_feature_guard.cc:210] This TensorFlow binary is optimized to use available CPU instructions in performance-critical operations.\n",
      "To enable the following instructions: AVX2 AVX512F AVX512_VNNI FMA, in other operations, rebuild TensorFlow with the appropriate compiler flags.\n"
     ]
    }
   ],
   "source": [
    "from collections import Counter\n",
    "import numpy as np\n",
    "from transformers import AutoModelForSequenceClassification, AutoTokenizer, TextClassificationPipeline\n",
    "from src.logging import logger"
   ]
  },
  {
   "cell_type": "code",
   "execution_count": 6,
   "id": "d7e9c7fe",
   "metadata": {},
   "outputs": [],
   "source": [
    "class ModelEvalution:\n",
    "    def __init__(self,config=ModelEvalutionConfig):\n",
    "        self.config=config\n",
    "        self.tokenizer = AutoTokenizer.from_pretrained(self.config.tokenizer_path)\n",
    "        self.model = AutoModelForSequenceClassification.from_pretrained(self.config.model_path)\n",
    "        self.pipeline =  TextClassificationPipeline(model=self.model, tokenizer=self.tokenizer)\n",
    "\n",
    "        with open(self.config.clean_data_yt_path, \"r\", encoding=\"utf-8\") as f:\n",
    "                self.text = [line.strip() for line in f.readlines()]\n",
    "                logger.info(\"yt Comment Text successfully loaded\")\n",
    "        \n",
    "    def predict(self):\n",
    "        result = [self.pipeline(c) for c in self.text]\n",
    "        flat_preds = [x[0] for x in result]\n",
    "        labels = [entry['label'] for entry in flat_preds]\n",
    "        scores = [entry['score'] for entry in flat_preds]\n",
    "        most_common_label = Counter(labels).most_common(1)[0][0]\n",
    "        most_common_label_count = Counter(labels).most_common(1)[0][1]\n",
    "        percentage = (most_common_label_count/len(labels))*100\n",
    "        return f\"Your comments are {percentage:.1f}% {most_common_label} with an average model confidence of {np.mean(scores):.2f}.\"\n",
    "            "
   ]
  },
  {
   "cell_type": "code",
   "execution_count": 7,
   "id": "e3654861",
   "metadata": {},
   "outputs": [
    {
     "name": "stdout",
     "output_type": "stream",
     "text": [
      "[2025-06-15 16:01:38,329 : INFO : common : Created directory at: artifacts]\n",
      "[2025-06-15 16:01:38,335 : INFO : common : Created directory at: artifacts/model_evalution]\n"
     ]
    },
    {
     "name": "stderr",
     "output_type": "stream",
     "text": [
      "Device set to use cpu\n"
     ]
    },
    {
     "name": "stdout",
     "output_type": "stream",
     "text": [
      "[2025-06-15 16:01:39,227 : INFO : 2242629154 : yt Comment Text successfully loaded]\n"
     ]
    },
    {
     "data": {
      "text/plain": [
       "'Your comments are 94.2% non-toxic with an average model confidence of 0.97.'"
      ]
     },
     "execution_count": 7,
     "metadata": {},
     "output_type": "execute_result"
    }
   ],
   "source": [
    "config = ConfigurationManager()\n",
    "get_modelEval= config.get_model_eval()\n",
    "modeleval = ModelEvalution(config=get_modelEval)\n",
    "modeleval.predict()"
   ]
  }
 ],
 "metadata": {
  "kernelspec": {
   "display_name": ".venv",
   "language": "python",
   "name": "python3"
  },
  "language_info": {
   "codemirror_mode": {
    "name": "ipython",
    "version": 3
   },
   "file_extension": ".py",
   "mimetype": "text/x-python",
   "name": "python",
   "nbconvert_exporter": "python",
   "pygments_lexer": "ipython3",
   "version": "3.10.16"
  }
 },
 "nbformat": 4,
 "nbformat_minor": 5
}
