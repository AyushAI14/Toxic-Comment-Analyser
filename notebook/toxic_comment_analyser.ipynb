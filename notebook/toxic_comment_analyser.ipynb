{
  "nbformat": 4,
  "nbformat_minor": 0,
  "metadata": {
    "colab": {
      "provenance": []
    },
    "kernelspec": {
      "name": "python3",
      "display_name": "Python 3"
    },
    "language_info": {
      "name": "python"
    }
  },
  "cells": [
    {
      "cell_type": "markdown",
      "source": [
        "# My plans\n",
        "1. Text -> textProcessing -> modelPredection -> good/bad score\n",
        "\n",
        "2. yt link -> commentExtract -> textProcessing -> modelPredection -> good/bad score\n",
        "3. twitter link -> commentExtract -> textProcessing -> modelPredection -> good/bad score\n"
      ],
      "metadata": {
        "id": "d42_r--UFfYf"
      }
    },
    {
      "cell_type": "markdown",
      "source": [
        "# Data Ingestion"
      ],
      "metadata": {
        "id": "iMrSF8kzV2tY"
      }
    },
    {
      "cell_type": "markdown",
      "source": [
        "## youtube"
      ],
      "metadata": {
        "id": "EouYeHIvgLVm"
      }
    },
    {
      "cell_type": "code",
      "source": [
        "import os\n",
        "import certifi\n",
        "\n",
        "os.environ['SSL_CERT_FILE'] = certifi.where()"
      ],
      "metadata": {
        "id": "aGnBE7gKz853"
      },
      "execution_count": null,
      "outputs": []
    },
    {
      "cell_type": "code",
      "source": [
        "!pip install youtube-comment-downloader"
      ],
      "metadata": {
        "colab": {
          "base_uri": "https://localhost:8080/"
        },
        "id": "9CWcdkQ5GWHe",
        "outputId": "7924ec36-b7de-47cf-f67f-9e4a1efba787"
      },
      "execution_count": null,
      "outputs": [
        {
          "output_type": "stream",
          "name": "stdout",
          "text": [
            "Requirement already satisfied: youtube-comment-downloader in /usr/local/lib/python3.11/dist-packages (0.1.76)\n",
            "Requirement already satisfied: dateparser in /usr/local/lib/python3.11/dist-packages (from youtube-comment-downloader) (1.2.1)\n",
            "Requirement already satisfied: requests in /usr/local/lib/python3.11/dist-packages (from youtube-comment-downloader) (2.32.3)\n",
            "Requirement already satisfied: python-dateutil>=2.7.0 in /usr/local/lib/python3.11/dist-packages (from dateparser->youtube-comment-downloader) (2.9.0.post0)\n",
            "Requirement already satisfied: pytz>=2024.2 in /usr/local/lib/python3.11/dist-packages (from dateparser->youtube-comment-downloader) (2025.2)\n",
            "Requirement already satisfied: regex!=2019.02.19,!=2021.8.27,>=2015.06.24 in /usr/local/lib/python3.11/dist-packages (from dateparser->youtube-comment-downloader) (2024.11.6)\n",
            "Requirement already satisfied: tzlocal>=0.2 in /usr/local/lib/python3.11/dist-packages (from dateparser->youtube-comment-downloader) (5.3.1)\n",
            "Requirement already satisfied: charset-normalizer<4,>=2 in /usr/local/lib/python3.11/dist-packages (from requests->youtube-comment-downloader) (3.4.2)\n",
            "Requirement already satisfied: idna<4,>=2.5 in /usr/local/lib/python3.11/dist-packages (from requests->youtube-comment-downloader) (3.10)\n",
            "Requirement already satisfied: urllib3<3,>=1.21.1 in /usr/local/lib/python3.11/dist-packages (from requests->youtube-comment-downloader) (2.4.0)\n",
            "Requirement already satisfied: certifi>=2017.4.17 in /usr/local/lib/python3.11/dist-packages (from requests->youtube-comment-downloader) (2025.4.26)\n",
            "Requirement already satisfied: six>=1.5 in /usr/local/lib/python3.11/dist-packages (from python-dateutil>=2.7.0->dateparser->youtube-comment-downloader) (1.17.0)\n"
          ]
        }
      ]
    },
    {
      "cell_type": "code",
      "source": [
        "from urllib.parse import urlparse, parse_qs\n",
        "\n",
        "def extract_video_id(url):\n",
        "    parsed_url = urlparse(url)\n",
        "    # print(parsed_url)\n",
        "    if 'youtu.be' in parsed_url.netloc:\n",
        "        return parsed_url.path.strip('/')\n",
        "\n",
        "    return None\n"
      ],
      "metadata": {
        "id": "lTQ7b7rfgr_3"
      },
      "execution_count": null,
      "outputs": []
    },
    {
      "cell_type": "code",
      "source": [
        "v = extract_video_id('https://youtu.be/OLPwT05kYjw?si=vlkgvHWyquJVddHS')\n",
        "v"
      ],
      "metadata": {
        "colab": {
          "base_uri": "https://localhost:8080/",
          "height": 35
        },
        "id": "H0xsWUBpjnH-",
        "outputId": "e7f3cfc5-ca31-4961-924c-f497672cb596"
      },
      "execution_count": null,
      "outputs": [
        {
          "output_type": "execute_result",
          "data": {
            "text/plain": [
              "'OLPwT05kYjw'"
            ],
            "application/vnd.google.colaboratory.intrinsic+json": {
              "type": "string"
            }
          },
          "metadata": {},
          "execution_count": 4
        }
      ]
    },
    {
      "cell_type": "code",
      "source": [
        "from youtube_comment_downloader import YoutubeCommentDownloader\n",
        "\n",
        "def get_youtube_comments(video_url, max_comments=100):\n",
        "    downloader = YoutubeCommentDownloader()\n",
        "    if 'youtu.be' in video_url:\n",
        "      video_id=extract_video_id(video_url)\n",
        "    else:\n",
        "      video_id = video_url.split('v=')[-1]\n",
        "\n",
        "    comments = []\n",
        "    for comment in downloader.get_comments_from_url(f\"https://www.youtube.com/watch?v={video_id}\"):\n",
        "        comments.append(comment['text'])\n",
        "        if len(comments) >= max_comments:\n",
        "            break\n",
        "    return comments"
      ],
      "metadata": {
        "id": "7M_RDfnidOja"
      },
      "execution_count": null,
      "outputs": []
    },
    {
      "cell_type": "code",
      "source": [
        "yt_comments = get_youtube_comments(\"https://www.youtube.com/watch?v=INxnoCQxfsI\")"
      ],
      "metadata": {
        "id": "Qn7fWuEcdWmY"
      },
      "execution_count": null,
      "outputs": []
    },
    {
      "cell_type": "markdown",
      "source": [
        "## twitter"
      ],
      "metadata": {
        "id": "qAh0YKcKj_Pb"
      }
    },
    {
      "cell_type": "code",
      "source": [
        "# import requests\n",
        "\n",
        "# headers = {\n",
        "#     \"User-Agent\": \"Mozilla/5.0 (Windows NT 10.0; Win64; x64)\"\n",
        "# }\n",
        "\n",
        "# response = requests.get(\"https://twitter.com\", headers=headers)\n",
        "# print(response.status_code)\n"
      ],
      "metadata": {
        "id": "K5c3YdpbyfFJ"
      },
      "execution_count": null,
      "outputs": []
    },
    {
      "cell_type": "code",
      "source": [
        "# !pip install snscrape"
      ],
      "metadata": {
        "id": "h1BwN8czdgZo"
      },
      "execution_count": null,
      "outputs": []
    },
    {
      "cell_type": "code",
      "source": [
        "# import snscrape.modules.twitter as sntwitter\n",
        "# def get_twitter_replies(video_url, max_comments=100):\n",
        "#   tweet_id = video_url.split('/')[-1]\n",
        "#   query = f'conversation_id:{tweet_id}'\n",
        "#   replies=[]\n",
        "#   for i,tweet in enumerate(sntwitter.TwitterSearchScraper(query).get_items()):\n",
        "#     if i >=max_comments:\n",
        "#       break\n",
        "#     if tweet.inReplyToTweetId==int(tweet_id):\n",
        "#       replies.appeng(tweet.content)\n",
        "#   return replies"
      ],
      "metadata": {
        "id": "ZOt3XVILvTAV"
      },
      "execution_count": null,
      "outputs": []
    },
    {
      "cell_type": "code",
      "source": [
        "# get_twitter_replies('https://x.com/IRIran_Military/status/1933590328017121748')"
      ],
      "metadata": {
        "id": "2QQIaV5dxlq5"
      },
      "execution_count": null,
      "outputs": []
    },
    {
      "cell_type": "markdown",
      "source": [
        "# Data Preprocessing"
      ],
      "metadata": {
        "id": "XALfFY24C_Iz"
      }
    },
    {
      "cell_type": "code",
      "source": [
        "!pip install text_prettifier"
      ],
      "metadata": {
        "colab": {
          "base_uri": "https://localhost:8080/"
        },
        "id": "t9CrWXNvD1gc",
        "outputId": "7fcf4177-bf1b-4d1b-ac6a-748328ee1071"
      },
      "execution_count": null,
      "outputs": [
        {
          "output_type": "stream",
          "name": "stdout",
          "text": [
            "Requirement already satisfied: text_prettifier in /usr/local/lib/python3.11/dist-packages (2.0.1)\n",
            "Requirement already satisfied: contractions in /usr/local/lib/python3.11/dist-packages (from text_prettifier) (0.1.73)\n",
            "Requirement already satisfied: nltk in /usr/local/lib/python3.11/dist-packages (from text_prettifier) (3.9.1)\n",
            "Requirement already satisfied: internet-words-remover in /usr/local/lib/python3.11/dist-packages (from text_prettifier) (3.1.3)\n",
            "Requirement already satisfied: textsearch>=0.0.21 in /usr/local/lib/python3.11/dist-packages (from contractions->text_prettifier) (0.0.24)\n",
            "Requirement already satisfied: click in /usr/local/lib/python3.11/dist-packages (from nltk->text_prettifier) (8.2.1)\n",
            "Requirement already satisfied: joblib in /usr/local/lib/python3.11/dist-packages (from nltk->text_prettifier) (1.5.1)\n",
            "Requirement already satisfied: regex>=2021.8.3 in /usr/local/lib/python3.11/dist-packages (from nltk->text_prettifier) (2024.11.6)\n",
            "Requirement already satisfied: tqdm in /usr/local/lib/python3.11/dist-packages (from nltk->text_prettifier) (4.67.1)\n",
            "Requirement already satisfied: anyascii in /usr/local/lib/python3.11/dist-packages (from textsearch>=0.0.21->contractions->text_prettifier) (0.3.2)\n",
            "Requirement already satisfied: pyahocorasick in /usr/local/lib/python3.11/dist-packages (from textsearch>=0.0.21->contractions->text_prettifier) (2.1.0)\n"
          ]
        }
      ]
    },
    {
      "cell_type": "code",
      "source": [
        "# yt_comments\n",
        "from text_prettifier import TextPrettifier\n",
        "\n",
        "prettifier = TextPrettifier()\n",
        "\n",
        "def text_cleaner(text):\n",
        "    text = text.lower()\n",
        "    text = prettifier.remove_contractions(text)\n",
        "    text = prettifier.remove_emojis(text)\n",
        "    text = prettifier.remove_html_tags(text)\n",
        "    text = prettifier.remove_urls(text)\n",
        "    text = prettifier.remove_special_chars(text)\n",
        "    text = prettifier.remove_stopwords(text)\n",
        "    text = prettifier.remove_numbers(text)\n",
        "    return text"
      ],
      "metadata": {
        "id": "EUQAcuLLDE4q"
      },
      "execution_count": null,
      "outputs": []
    },
    {
      "cell_type": "code",
      "source": [
        "yt_comments=comments = [\n",
        "    \"You're a complete waste of oxygen. Just disappear already.\",          # toxic\n",
        "    \"I really enjoyed this video, thanks for sharing!\",                    # non-toxic\n",
        "    \"How dumb can you be and still breathe? Unbelievable.\",               # toxic\n",
        "    \"Great explanation, made everything so much clearer.\",                # non-toxic\n",
        "    \"Nobody asked for your opinion, loser.\",                              # toxic\n",
        "    \"This was super helpful, keep up the good work!\",                     # non-toxic\n",
        "    \"Get off the internet, you pathetic excuse for a human.\",             # toxic\n",
        "    \"I didn’t know stupidity was contagious until I watched this.\",       # toxic\n",
        "    \"Loved the positive energy here, really uplifting!\",                  # non-toxic\n",
        "    \"Typical garbage from your kind. Stay in your lane.\"                  # toxic\n",
        "]\n"
      ],
      "metadata": {
        "id": "AATUT3YyJYn0"
      },
      "execution_count": null,
      "outputs": []
    },
    {
      "cell_type": "code",
      "source": [
        "cleaned_text = [text_cleaner(text) for text in yt_comments]"
      ],
      "metadata": {
        "id": "FHsQBHg8DH42"
      },
      "execution_count": null,
      "outputs": []
    },
    {
      "cell_type": "code",
      "source": [
        "!pip install langdetect"
      ],
      "metadata": {
        "colab": {
          "base_uri": "https://localhost:8080/"
        },
        "id": "cZii1_7FSAmw",
        "outputId": "08904e92-c9d3-4a5b-ebc4-731ae195e593"
      },
      "execution_count": null,
      "outputs": [
        {
          "output_type": "stream",
          "name": "stdout",
          "text": [
            "Requirement already satisfied: langdetect in /usr/local/lib/python3.11/dist-packages (1.0.9)\n",
            "Requirement already satisfied: six in /usr/local/lib/python3.11/dist-packages (from langdetect) (1.17.0)\n"
          ]
        }
      ]
    },
    {
      "cell_type": "code",
      "source": [
        "from langdetect import detect\n",
        "\n",
        "def is_english(text):\n",
        "    try:\n",
        "        return detect(text) == 'en'\n",
        "    except:\n",
        "        return False\n",
        "\n",
        "# Filter out non-English comments\n",
        "english_comments = [text for text in cleaned_text if is_english(text)]\n"
      ],
      "metadata": {
        "id": "mj4ufhwPR-Cs"
      },
      "execution_count": null,
      "outputs": []
    },
    {
      "cell_type": "code",
      "source": [
        "comments = [c for c in english_comments if c.strip()]\n",
        "comments"
      ],
      "metadata": {
        "colab": {
          "base_uri": "https://localhost:8080/"
        },
        "id": "aa_G68MPEDu2",
        "outputId": "399941a3-3681-4271-d85f-61aa5b8d8cad"
      },
      "execution_count": null,
      "outputs": [
        {
          "output_type": "execute_result",
          "data": {
            "text/plain": [
              "['complete waste oxygen disappear already',\n",
              " 'really enjoyed video thanks sharing',\n",
              " 'dumb still breathe unbelievable',\n",
              " 'great explanation made everything much clearer',\n",
              " 'nobody asked opinion loser',\n",
              " 'get internet pathetic excuse human',\n",
              " 'know stupidity contagious watched',\n",
              " 'loved positive energy really uplifting',\n",
              " 'typical garbage kind stay lane']"
            ]
          },
          "metadata": {},
          "execution_count": 27
        }
      ]
    },
    {
      "cell_type": "markdown",
      "source": [
        "# model Training\n",
        "\n",
        "\n"
      ],
      "metadata": {
        "id": "PRotRkYSUJxv"
      }
    },
    {
      "cell_type": "code",
      "source": [
        "from transformers import AutoModelForSequenceClassification, AutoTokenizer, TextClassificationPipeline\n",
        "\n",
        "model_path = \"martin-ha/toxic-comment-model\"\n",
        "tokenizer = AutoTokenizer.from_pretrained(model_path)\n",
        "model = AutoModelForSequenceClassification.from_pretrained(model_path)\n",
        "\n",
        "pipeline =  TextClassificationPipeline(model=model, tokenizer=tokenizer)"
      ],
      "metadata": {
        "colab": {
          "base_uri": "https://localhost:8080/"
        },
        "id": "PbmYS6QxEReR",
        "outputId": "1e5a562c-f694-4ae5-c886-6c9cc0277408"
      },
      "execution_count": null,
      "outputs": [
        {
          "output_type": "stream",
          "name": "stderr",
          "text": [
            "/usr/local/lib/python3.11/dist-packages/huggingface_hub/utils/_auth.py:94: UserWarning: \n",
            "The secret `HF_TOKEN` does not exist in your Colab secrets.\n",
            "To authenticate with the Hugging Face Hub, create a token in your settings tab (https://huggingface.co/settings/tokens), set it as secret in your Google Colab and restart your session.\n",
            "You will be able to reuse this secret in all of your notebooks.\n",
            "Please note that authentication is recommended but still optional to access public models or datasets.\n",
            "  warnings.warn(\n",
            "Device set to use cpu\n"
          ]
        }
      ]
    },
    {
      "cell_type": "code",
      "source": [
        "result = [pipeline(c) for c in comments]"
      ],
      "metadata": {
        "id": "EQht7CXVEckP"
      },
      "execution_count": null,
      "outputs": []
    },
    {
      "cell_type": "code",
      "source": [
        "flat_preds = [x[0] for x in result]"
      ],
      "metadata": {
        "id": "JPJ-VEL1IW-i"
      },
      "execution_count": null,
      "outputs": []
    },
    {
      "cell_type": "code",
      "source": [
        "flat_preds"
      ],
      "metadata": {
        "colab": {
          "base_uri": "https://localhost:8080/"
        },
        "id": "u9kmBPvBJa5D",
        "outputId": "e0de4406-a1ed-4ac7-df6f-a330b0cd16d2"
      },
      "execution_count": null,
      "outputs": [
        {
          "output_type": "execute_result",
          "data": {
            "text/plain": [
              "[{'label': 'non-toxic', 'score': 0.9864069819450378},\n",
              " {'label': 'non-toxic', 'score': 0.9990127086639404},\n",
              " {'label': 'toxic', 'score': 0.9481373429298401},\n",
              " {'label': 'non-toxic', 'score': 0.9987552165985107},\n",
              " {'label': 'toxic', 'score': 0.878703236579895},\n",
              " {'label': 'toxic', 'score': 0.950354814529419},\n",
              " {'label': 'toxic', 'score': 0.9561506509780884},\n",
              " {'label': 'non-toxic', 'score': 0.9982788562774658},\n",
              " {'label': 'toxic', 'score': 0.9434476494789124}]"
            ]
          },
          "metadata": {},
          "execution_count": 31
        }
      ]
    },
    {
      "cell_type": "code",
      "source": [
        "labels = [entry['label'] for entry in flat_preds]\n",
        "scores = [entry['score'] for entry in flat_preds]"
      ],
      "metadata": {
        "id": "hZzfawbfPCgG"
      },
      "execution_count": null,
      "outputs": []
    },
    {
      "cell_type": "code",
      "source": [
        "from collections import Counter\n",
        "import numpy as np\n",
        "\n",
        "most_common_label = Counter(labels).most_common(1)[0][0]\n",
        "most_common_label_count = Counter(labels).most_common(1)[0][1]\n",
        "percentage = (most_common_label_count/len(labels))*100\n",
        "print(f\"Your comments are {percentage:.1f}% {most_common_label} with an average model confidence of {np.mean(scores):.2f}.\")\n",
        "# percentage"
      ],
      "metadata": {
        "colab": {
          "base_uri": "https://localhost:8080/"
        },
        "id": "WHdF-J0hKUbV",
        "outputId": "971e1a4e-4215-4411-90c4-bdea418bfa29"
      },
      "execution_count": null,
      "outputs": [
        {
          "output_type": "stream",
          "name": "stdout",
          "text": [
            "Your comments are 55.6% toxic with an average model confidence of 0.96.\n"
          ]
        }
      ]
    },
    {
      "cell_type": "code",
      "source": [
        "model.save_pretrained('distilbert=toxic-model-v1')\n",
        "tokenizer.save_pretrained('distilbert=toxic-tokenizer-v1')"
      ],
      "metadata": {
        "id": "i-fL6VoXOF5a"
      },
      "execution_count": null,
      "outputs": []
    },
    {
      "cell_type": "code",
      "source": [
        "pipeline('nobody asked opinion loser')"
      ],
      "metadata": {
        "colab": {
          "base_uri": "https://localhost:8080/"
        },
        "id": "PH_s3vN6GMZD",
        "outputId": "1d5f2700-d4b2-4676-bbd5-813ee4c71da6"
      },
      "execution_count": null,
      "outputs": [
        {
          "output_type": "execute_result",
          "data": {
            "text/plain": [
              "[{'label': 'toxic', 'score': 0.878703236579895}]"
            ]
          },
          "metadata": {},
          "execution_count": 25
        }
      ]
    },
    {
      "cell_type": "code",
      "source": [],
      "metadata": {
        "id": "re-4Zw3oJ0uQ"
      },
      "execution_count": null,
      "outputs": []
    }
  ]
}