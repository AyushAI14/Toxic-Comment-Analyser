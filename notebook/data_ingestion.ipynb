{
 "cells": [
  {
   "cell_type": "code",
   "execution_count": 1,
   "id": "d643c5a8",
   "metadata": {},
   "outputs": [
    {
     "name": "stdout",
     "output_type": "stream",
     "text": [
      "/home/ayush/Documents/AI/Projects/Toxic-Comment-Analyser\n"
     ]
    },
    {
     "name": "stderr",
     "output_type": "stream",
     "text": [
      "/home/ayush/Documents/AI/Projects/Toxic-Comment-Analyser/.venv/lib/python3.10/site-packages/IPython/core/magics/osm.py:417: UserWarning: This is now an optional IPython functionality, setting dhist requires you to install the `pickleshare` library.\n",
      "  self.shell.db['dhist'] = compress_dhist(dhist)[-100:]\n"
     ]
    }
   ],
   "source": [
    "cd .."
   ]
  },
  {
   "cell_type": "code",
   "execution_count": 2,
   "id": "f5dccdf8",
   "metadata": {},
   "outputs": [],
   "source": [
    "from dataclasses import dataclass\n",
    "\n",
    "@dataclass\n",
    "class DataIngestionConfig:\n",
    "    root_dir: str\n",
    "    data_yt_path: str\n",
    "    data_tw_path: str\n",
    "    data_nor_path: str\n"
   ]
  },
  {
   "cell_type": "code",
   "execution_count": 3,
   "id": "77b02d70",
   "metadata": {},
   "outputs": [],
   "source": [
    "from src.constants import *\n",
    "from src.utils.common import read_yaml_file,create_dir"
   ]
  },
  {
   "cell_type": "code",
   "execution_count": 4,
   "id": "fd08f15c",
   "metadata": {},
   "outputs": [],
   "source": [
    "class ConfigurationManager:\n",
    "    def __init__(self,config=CONFIG_FILE_PATH,\n",
    "                 param=PARAM_FILE_PATH):\n",
    "        self.config=read_yaml_file(config)\n",
    "        self.param=read_yaml_file(param)\n",
    "        create_dir([self.config.artifact_root])\n",
    "\n",
    "    def get_data_ingestion(self)->DataIngestionConfig:\n",
    "        config = self.config.data_ingestion\n",
    "        create_dir([config.root_dir])\n",
    "        get_dataINgestion=DataIngestionConfig(\n",
    "            root_dir=config.root_dir,\n",
    "            data_yt_path=config.data_yt_path,\n",
    "            data_tw_path=config.data_tw_path,\n",
    "            data_nor_path=config.data_nor_path\n",
    "        )\n",
    "        return get_dataINgestion"
   ]
  },
  {
   "cell_type": "code",
   "execution_count": 8,
   "id": "10ffcc4e",
   "metadata": {},
   "outputs": [],
   "source": [
    "from Extracter.youtube import YtCommentExtracter \n",
    "from src.logging import logger\n"
   ]
  },
  {
   "cell_type": "code",
   "execution_count": null,
   "id": "23b87c2f",
   "metadata": {},
   "outputs": [],
   "source": [
    "class DataIngestion:\n",
    "    def __init__(self,config=DataIngestionConfig):\n",
    "        self.config= config\n",
    "\n",
    "    def youtubeComment(self,url):\n",
    "        obj = YtCommentExtracter()\n",
    "        ytcomm = obj.get_youtube_comments(url)\n",
    "        logger.debug('yt Comment Text fetch successfully')\n",
    "        with open(self.config.data_yt_path, \"w\", encoding=\"utf-8\") as f:\n",
    "            for comment in ytcomm:\n",
    "                f.write(comment + \"\\n\")\n",
    "            logger.debug('yt Comment Text successfully saved in file')"
   ]
  },
  {
   "cell_type": "code",
   "execution_count": 7,
   "id": "cd1accfd",
   "metadata": {},
   "outputs": [
    {
     "name": "stdout",
     "output_type": "stream",
     "text": [
      "[2025-06-15 12:32:11,894 : INFO : common : Created directory at: artifacts]\n",
      "[2025-06-15 12:32:11,896 : INFO : common : Created directory at: artifacts/data_ingestion]\n"
     ]
    }
   ],
   "source": [
    "config = ConfigurationManager()\n",
    "get_dataingestionConfig= config.get_data_ingestion()\n",
    "dataingestion = DataIngestion(config=get_dataingestionConfig)\n",
    "dataingestion.youtubeComment('https://youtu.be/OLPwT05kYjw?si=vlkgvHWyquJVddHS')"
   ]
  },
  {
   "cell_type": "code",
   "execution_count": null,
   "id": "128ed333",
   "metadata": {},
   "outputs": [],
   "source": []
  }
 ],
 "metadata": {
  "kernelspec": {
   "display_name": ".venv",
   "language": "python",
   "name": "python3"
  },
  "language_info": {
   "codemirror_mode": {
    "name": "ipython",
    "version": 3
   },
   "file_extension": ".py",
   "mimetype": "text/x-python",
   "name": "python",
   "nbconvert_exporter": "python",
   "pygments_lexer": "ipython3",
   "version": "3.10.16"
  }
 },
 "nbformat": 4,
 "nbformat_minor": 5
}
