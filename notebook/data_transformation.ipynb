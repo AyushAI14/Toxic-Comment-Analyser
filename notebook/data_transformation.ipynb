{
 "cells": [
  {
   "cell_type": "code",
   "execution_count": 1,
   "id": "d643c5a8",
   "metadata": {},
   "outputs": [
    {
     "name": "stdout",
     "output_type": "stream",
     "text": [
      "/home/ayush/Documents/AI/Projects/Toxic-Comment-Analyser\n"
     ]
    },
    {
     "name": "stderr",
     "output_type": "stream",
     "text": [
      "/home/ayush/Documents/AI/Projects/Toxic-Comment-Analyser/.venv/lib/python3.10/site-packages/IPython/core/magics/osm.py:417: UserWarning: This is now an optional IPython functionality, setting dhist requires you to install the `pickleshare` library.\n",
      "  self.shell.db['dhist'] = compress_dhist(dhist)[-100:]\n"
     ]
    }
   ],
   "source": [
    "cd .."
   ]
  },
  {
   "cell_type": "code",
   "execution_count": 2,
   "id": "f5dccdf8",
   "metadata": {},
   "outputs": [],
   "source": [
    "from dataclasses import dataclass\n",
    "\n",
    "@dataclass\n",
    "class DataTranformationConfig:\n",
    "    root_dir: str\n",
    "    data_yt_path: str\n",
    "    clean_data_yt_path: str\n"
   ]
  },
  {
   "cell_type": "code",
   "execution_count": 3,
   "id": "77b02d70",
   "metadata": {},
   "outputs": [],
   "source": [
    "from src.constants import *\n",
    "from src.utils.common import read_yaml_file,create_dir"
   ]
  },
  {
   "cell_type": "code",
   "execution_count": 4,
   "id": "fd08f15c",
   "metadata": {},
   "outputs": [],
   "source": [
    "class ConfigurationManager:\n",
    "    def __init__(self,config=CONFIG_FILE_PATH,\n",
    "                 param=PARAM_FILE_PATH):\n",
    "        self.config=read_yaml_file(config)\n",
    "        self.param=read_yaml_file(param)\n",
    "        create_dir([self.config.artifact_root])\n",
    "\n",
    "    def get_data_transformation(self)->DataTranformationConfig:\n",
    "        config = self.config.data_transformation\n",
    "        create_dir([config.root_dir])\n",
    "        get_dataTran=DataTranformationConfig(\n",
    "            root_dir=config.root_dir,\n",
    "            clean_data_yt_path=config.clean_data_yt_path,\n",
    "            data_yt_path=config.data_yt_path\n",
    "        )\n",
    "        return get_dataTran"
   ]
  },
  {
   "cell_type": "code",
   "execution_count": 5,
   "id": "10ffcc4e",
   "metadata": {},
   "outputs": [],
   "source": [
    "from src.logging import logger\n",
    "from text_prettifier import TextPrettifier\n",
    "from langdetect import detect\n"
   ]
  },
  {
   "cell_type": "code",
   "execution_count": 6,
   "id": "23b87c2f",
   "metadata": {},
   "outputs": [],
   "source": [
    "class DataTranformation:\n",
    "    def __init__(self,config=DataTranformationConfig):\n",
    "        self.config= config\n",
    "        self.prettifier = TextPrettifier()\n",
    "\n",
    "        with open(self.config.data_yt_path, \"r\", encoding=\"utf-8\") as f:\n",
    "                self.text = [line.strip() for line in f.readlines()]\n",
    "                logger.info(\"yt Comment Text successfully loaded\")\n",
    "\n",
    "\n",
    "    def text_cleaner(self,text):\n",
    "        text = text.lower()\n",
    "        text = self.prettifier.remove_contractions(text)\n",
    "        text = self.prettifier.remove_emojis(text)\n",
    "        text = self.prettifier.remove_html_tags(text)\n",
    "        text = self.prettifier.remove_urls(text)\n",
    "        text = self.prettifier.remove_special_chars(text)\n",
    "        text = self.prettifier.remove_stopwords(text)\n",
    "        text = self.prettifier.remove_numbers(text)\n",
    "        return text\n",
    "    def is_english(self,text):\n",
    "        try:\n",
    "            return detect(text) == 'en'\n",
    "        except:\n",
    "            return False\n",
    "        \n",
    "    def filter_text(self):\n",
    "        cleaned_text = [self.text_cleaner(t) for t in self.text]\n",
    "        english_comments = [text for text in cleaned_text if self.is_english(text)]\n",
    "        with open(self.config.clean_data_yt_path, \"w\", encoding=\"utf-8\") as f:\n",
    "            for comment in english_comments:\n",
    "                f.write(comment + \"\\n\")\n",
    "            logger.debug('yt Comment Text successfully saved in file')\n"
   ]
  },
  {
   "cell_type": "code",
   "execution_count": 7,
   "id": "cd1accfd",
   "metadata": {},
   "outputs": [
    {
     "name": "stdout",
     "output_type": "stream",
     "text": [
      "[2025-06-15 13:31:37,921 : INFO : common : Created directory at: artifacts]\n",
      "[2025-06-15 13:31:37,923 : INFO : common : Created directory at: artifacts/data_transformation]\n",
      "[2025-06-15 13:31:37,925 : INFO : 1325234647 : yt Comment Text successfully loaded]\n"
     ]
    }
   ],
   "source": [
    "config = ConfigurationManager()\n",
    "get_datatranConfig= config.get_data_transformation()\n",
    "dataingestion = DataTranformation(config=get_datatranConfig)\n",
    "dataingestion.filter_text()"
   ]
  },
  {
   "cell_type": "code",
   "execution_count": null,
   "id": "128ed333",
   "metadata": {},
   "outputs": [],
   "source": []
  }
 ],
 "metadata": {
  "kernelspec": {
   "display_name": ".venv",
   "language": "python",
   "name": "python3"
  },
  "language_info": {
   "codemirror_mode": {
    "name": "ipython",
    "version": 3
   },
   "file_extension": ".py",
   "mimetype": "text/x-python",
   "name": "python",
   "nbconvert_exporter": "python",
   "pygments_lexer": "ipython3",
   "version": "3.10.16"
  }
 },
 "nbformat": 4,
 "nbformat_minor": 5
}
